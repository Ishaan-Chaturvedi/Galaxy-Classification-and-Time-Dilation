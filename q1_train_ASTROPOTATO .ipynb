{
  "nbformat": 4,
  "nbformat_minor": 0,
  "metadata": {
    "colab": {
      "name": "Untitled4 (2).ipynb",
      "provenance": [],
      "collapsed_sections": []
    },
    "kernelspec": {
      "name": "python3",
      "display_name": "Python 3"
    },
    "language_info": {
      "name": "python"
    }
  },
  "cells": [
    {
      "cell_type": "markdown",
      "source": [
        "### Mounting Google Drive"
      ],
      "metadata": {
        "id": "4DLC6LkCHDmN"
      }
    },
    {
      "cell_type": "code",
      "source": [
        "from google.colab import drive\n",
        "drive.mount('/content/drive')"
      ],
      "metadata": {
        "colab": {
          "base_uri": "https://localhost:8080/"
        },
        "id": "NolIzSAk-V6M",
        "outputId": "9d927bc9-9ce2-4b26-c8c4-8309705e867f"
      },
      "execution_count": 1,
      "outputs": [
        {
          "output_type": "stream",
          "name": "stdout",
          "text": [
            "Drive already mounted at /content/drive; to attempt to forcibly remount, call drive.mount(\"/content/drive\", force_remount=True).\n"
          ]
        }
      ]
    },
    {
      "cell_type": "markdown",
      "source": [
        "### Directory"
      ],
      "metadata": {
        "id": "6J3SbE8TbSUs"
      }
    },
    {
      "cell_type": "code",
      "source": [
        "##!!IMPORTANT\n",
        "##your outputdir should be accessible by both the notebooks\n",
        "outputdir='/content/drive/MyDrive/'\n",
        "inputpath='/content/drive/MyDrive/train-withclasses.csv'"
      ],
      "metadata": {
        "id": "E6kDE7uKbS7D"
      },
      "execution_count": 2,
      "outputs": []
    },
    {
      "cell_type": "markdown",
      "source": [
        "### Dependencies"
      ],
      "metadata": {
        "id": "sOo9bX2aHRQW"
      }
    },
    {
      "cell_type": "code",
      "source": [
        "import pandas as pd\n",
        "import numpy as np\n",
        "import sklearn\n",
        "from sklearn.model_selection import train_test_split\n",
        "import matplotlib.pyplot as plt\n",
        "\n",
        "#For decision tree scikit learn\n",
        "from sklearn.ensemble import RandomForestClassifier as forest\n",
        "\n",
        "#for Neural net\n",
        "import torch\n",
        "import torch.nn as nn\n",
        "from torch.optim import Adam\n",
        "from sklearn.preprocessing import LabelEncoder as le\n",
        "from scipy.special import softmax\n",
        "from sklearn.model_selection import StratifiedKFold as SKF\n",
        "\n",
        "\n",
        "\n",
        "\n"
      ],
      "metadata": {
        "id": "vY-4VNC6CrZa"
      },
      "execution_count": 3,
      "outputs": []
    },
    {
      "cell_type": "markdown",
      "source": [
        "## Helper Function"
      ],
      "metadata": {
        "id": "Hui-v8dSKazv"
      }
    },
    {
      "cell_type": "code",
      "source": [
        "#Accuracy function defined for later use\n",
        "def accuracy(ytest,ypred):\n",
        "  return sum(ypred==ytest)/len(ytest)"
      ],
      "metadata": {
        "id": "d5xbz2p6KeZC"
      },
      "execution_count": 4,
      "outputs": []
    },
    {
      "cell_type": "markdown",
      "source": [
        "### Reading File"
      ],
      "metadata": {
        "id": "XcCzXbfyHpqT"
      }
    },
    {
      "cell_type": "code",
      "source": [
        "dataastro=pd.read_csv(inputpath)\n"
      ],
      "metadata": {
        "id": "yoDmU1P6-rVA"
      },
      "execution_count": 5,
      "outputs": []
    },
    {
      "cell_type": "code",
      "source": [
        "dataastro.head()"
      ],
      "metadata": {
        "colab": {
          "base_uri": "https://localhost:8080/",
          "height": 206
        },
        "id": "Q4LUKrtoJzQx",
        "outputId": "5f8e8128-e430-4390-e7f7-bb46522efe83"
      },
      "execution_count": 6,
      "outputs": [
        {
          "output_type": "execute_result",
          "data": {
            "text/plain": [
              "   Unnamed: 0      u-g      g-r      r-i      i-z       ecc      m4_u  \\\n",
              "0           0  1.45293  0.63368  0.40208  0.26573  0.390929  2.110849   \n",
              "1           1  1.56972  0.63443  0.34753  0.15197  0.915341  2.352859   \n",
              "2           2  1.46475  0.55405  0.36165  0.19781  0.540382  1.827454   \n",
              "3           3  1.95080  0.88949  0.40561  0.32002  0.895771  2.444309   \n",
              "4           4  2.03924  1.03214  0.42926  0.35035  0.906710  2.338428   \n",
              "\n",
              "       m4_g      m4_r      m4_i      m4_z  petroR50_u  petroR50_r  petroR50_z  \\\n",
              "0  2.156260  2.143514  2.234040  2.247642    1.666188    1.683902    1.375343   \n",
              "1  2.433820  2.471458  2.509777  2.517170    9.588296    8.813774    7.456224   \n",
              "2  2.003867  2.121698  2.175802  2.234748    4.358751    4.622508    4.221008   \n",
              "3  2.463624  2.439433  2.424131  2.404567    7.495163    5.190655    4.992559   \n",
              "4  2.368874  2.358188  2.397348  2.364135    2.464064    2.392333    2.247000   \n",
              "\n",
              "   petroR90_u  petroR90_r  petroR90_z       class  \n",
              "0    3.026231    3.700802    3.074833      merger  \n",
              "1   21.645460   22.488610   20.188500      spiral  \n",
              "2    8.496148    9.563267    9.114655      spiral  \n",
              "3   21.047320   15.879200   14.782440  elliptical  \n",
              "4    8.777987    7.884397    7.387922  elliptical  "
            ],
            "text/html": [
              "\n",
              "  <div id=\"df-5b1726aa-ba16-4e0c-96d2-29440781e6b0\">\n",
              "    <div class=\"colab-df-container\">\n",
              "      <div>\n",
              "<style scoped>\n",
              "    .dataframe tbody tr th:only-of-type {\n",
              "        vertical-align: middle;\n",
              "    }\n",
              "\n",
              "    .dataframe tbody tr th {\n",
              "        vertical-align: top;\n",
              "    }\n",
              "\n",
              "    .dataframe thead th {\n",
              "        text-align: right;\n",
              "    }\n",
              "</style>\n",
              "<table border=\"1\" class=\"dataframe\">\n",
              "  <thead>\n",
              "    <tr style=\"text-align: right;\">\n",
              "      <th></th>\n",
              "      <th>Unnamed: 0</th>\n",
              "      <th>u-g</th>\n",
              "      <th>g-r</th>\n",
              "      <th>r-i</th>\n",
              "      <th>i-z</th>\n",
              "      <th>ecc</th>\n",
              "      <th>m4_u</th>\n",
              "      <th>m4_g</th>\n",
              "      <th>m4_r</th>\n",
              "      <th>m4_i</th>\n",
              "      <th>m4_z</th>\n",
              "      <th>petroR50_u</th>\n",
              "      <th>petroR50_r</th>\n",
              "      <th>petroR50_z</th>\n",
              "      <th>petroR90_u</th>\n",
              "      <th>petroR90_r</th>\n",
              "      <th>petroR90_z</th>\n",
              "      <th>class</th>\n",
              "    </tr>\n",
              "  </thead>\n",
              "  <tbody>\n",
              "    <tr>\n",
              "      <th>0</th>\n",
              "      <td>0</td>\n",
              "      <td>1.45293</td>\n",
              "      <td>0.63368</td>\n",
              "      <td>0.40208</td>\n",
              "      <td>0.26573</td>\n",
              "      <td>0.390929</td>\n",
              "      <td>2.110849</td>\n",
              "      <td>2.156260</td>\n",
              "      <td>2.143514</td>\n",
              "      <td>2.234040</td>\n",
              "      <td>2.247642</td>\n",
              "      <td>1.666188</td>\n",
              "      <td>1.683902</td>\n",
              "      <td>1.375343</td>\n",
              "      <td>3.026231</td>\n",
              "      <td>3.700802</td>\n",
              "      <td>3.074833</td>\n",
              "      <td>merger</td>\n",
              "    </tr>\n",
              "    <tr>\n",
              "      <th>1</th>\n",
              "      <td>1</td>\n",
              "      <td>1.56972</td>\n",
              "      <td>0.63443</td>\n",
              "      <td>0.34753</td>\n",
              "      <td>0.15197</td>\n",
              "      <td>0.915341</td>\n",
              "      <td>2.352859</td>\n",
              "      <td>2.433820</td>\n",
              "      <td>2.471458</td>\n",
              "      <td>2.509777</td>\n",
              "      <td>2.517170</td>\n",
              "      <td>9.588296</td>\n",
              "      <td>8.813774</td>\n",
              "      <td>7.456224</td>\n",
              "      <td>21.645460</td>\n",
              "      <td>22.488610</td>\n",
              "      <td>20.188500</td>\n",
              "      <td>spiral</td>\n",
              "    </tr>\n",
              "    <tr>\n",
              "      <th>2</th>\n",
              "      <td>2</td>\n",
              "      <td>1.46475</td>\n",
              "      <td>0.55405</td>\n",
              "      <td>0.36165</td>\n",
              "      <td>0.19781</td>\n",
              "      <td>0.540382</td>\n",
              "      <td>1.827454</td>\n",
              "      <td>2.003867</td>\n",
              "      <td>2.121698</td>\n",
              "      <td>2.175802</td>\n",
              "      <td>2.234748</td>\n",
              "      <td>4.358751</td>\n",
              "      <td>4.622508</td>\n",
              "      <td>4.221008</td>\n",
              "      <td>8.496148</td>\n",
              "      <td>9.563267</td>\n",
              "      <td>9.114655</td>\n",
              "      <td>spiral</td>\n",
              "    </tr>\n",
              "    <tr>\n",
              "      <th>3</th>\n",
              "      <td>3</td>\n",
              "      <td>1.95080</td>\n",
              "      <td>0.88949</td>\n",
              "      <td>0.40561</td>\n",
              "      <td>0.32002</td>\n",
              "      <td>0.895771</td>\n",
              "      <td>2.444309</td>\n",
              "      <td>2.463624</td>\n",
              "      <td>2.439433</td>\n",
              "      <td>2.424131</td>\n",
              "      <td>2.404567</td>\n",
              "      <td>7.495163</td>\n",
              "      <td>5.190655</td>\n",
              "      <td>4.992559</td>\n",
              "      <td>21.047320</td>\n",
              "      <td>15.879200</td>\n",
              "      <td>14.782440</td>\n",
              "      <td>elliptical</td>\n",
              "    </tr>\n",
              "    <tr>\n",
              "      <th>4</th>\n",
              "      <td>4</td>\n",
              "      <td>2.03924</td>\n",
              "      <td>1.03214</td>\n",
              "      <td>0.42926</td>\n",
              "      <td>0.35035</td>\n",
              "      <td>0.906710</td>\n",
              "      <td>2.338428</td>\n",
              "      <td>2.368874</td>\n",
              "      <td>2.358188</td>\n",
              "      <td>2.397348</td>\n",
              "      <td>2.364135</td>\n",
              "      <td>2.464064</td>\n",
              "      <td>2.392333</td>\n",
              "      <td>2.247000</td>\n",
              "      <td>8.777987</td>\n",
              "      <td>7.884397</td>\n",
              "      <td>7.387922</td>\n",
              "      <td>elliptical</td>\n",
              "    </tr>\n",
              "  </tbody>\n",
              "</table>\n",
              "</div>\n",
              "      <button class=\"colab-df-convert\" onclick=\"convertToInteractive('df-5b1726aa-ba16-4e0c-96d2-29440781e6b0')\"\n",
              "              title=\"Convert this dataframe to an interactive table.\"\n",
              "              style=\"display:none;\">\n",
              "        \n",
              "  <svg xmlns=\"http://www.w3.org/2000/svg\" height=\"24px\"viewBox=\"0 0 24 24\"\n",
              "       width=\"24px\">\n",
              "    <path d=\"M0 0h24v24H0V0z\" fill=\"none\"/>\n",
              "    <path d=\"M18.56 5.44l.94 2.06.94-2.06 2.06-.94-2.06-.94-.94-2.06-.94 2.06-2.06.94zm-11 1L8.5 8.5l.94-2.06 2.06-.94-2.06-.94L8.5 2.5l-.94 2.06-2.06.94zm10 10l.94 2.06.94-2.06 2.06-.94-2.06-.94-.94-2.06-.94 2.06-2.06.94z\"/><path d=\"M17.41 7.96l-1.37-1.37c-.4-.4-.92-.59-1.43-.59-.52 0-1.04.2-1.43.59L10.3 9.45l-7.72 7.72c-.78.78-.78 2.05 0 2.83L4 21.41c.39.39.9.59 1.41.59.51 0 1.02-.2 1.41-.59l7.78-7.78 2.81-2.81c.8-.78.8-2.07 0-2.86zM5.41 20L4 18.59l7.72-7.72 1.47 1.35L5.41 20z\"/>\n",
              "  </svg>\n",
              "      </button>\n",
              "      \n",
              "  <style>\n",
              "    .colab-df-container {\n",
              "      display:flex;\n",
              "      flex-wrap:wrap;\n",
              "      gap: 12px;\n",
              "    }\n",
              "\n",
              "    .colab-df-convert {\n",
              "      background-color: #E8F0FE;\n",
              "      border: none;\n",
              "      border-radius: 50%;\n",
              "      cursor: pointer;\n",
              "      display: none;\n",
              "      fill: #1967D2;\n",
              "      height: 32px;\n",
              "      padding: 0 0 0 0;\n",
              "      width: 32px;\n",
              "    }\n",
              "\n",
              "    .colab-df-convert:hover {\n",
              "      background-color: #E2EBFA;\n",
              "      box-shadow: 0px 1px 2px rgba(60, 64, 67, 0.3), 0px 1px 3px 1px rgba(60, 64, 67, 0.15);\n",
              "      fill: #174EA6;\n",
              "    }\n",
              "\n",
              "    [theme=dark] .colab-df-convert {\n",
              "      background-color: #3B4455;\n",
              "      fill: #D2E3FC;\n",
              "    }\n",
              "\n",
              "    [theme=dark] .colab-df-convert:hover {\n",
              "      background-color: #434B5C;\n",
              "      box-shadow: 0px 1px 3px 1px rgba(0, 0, 0, 0.15);\n",
              "      filter: drop-shadow(0px 1px 2px rgba(0, 0, 0, 0.3));\n",
              "      fill: #FFFFFF;\n",
              "    }\n",
              "  </style>\n",
              "\n",
              "      <script>\n",
              "        const buttonEl =\n",
              "          document.querySelector('#df-5b1726aa-ba16-4e0c-96d2-29440781e6b0 button.colab-df-convert');\n",
              "        buttonEl.style.display =\n",
              "          google.colab.kernel.accessAllowed ? 'block' : 'none';\n",
              "\n",
              "        async function convertToInteractive(key) {\n",
              "          const element = document.querySelector('#df-5b1726aa-ba16-4e0c-96d2-29440781e6b0');\n",
              "          const dataTable =\n",
              "            await google.colab.kernel.invokeFunction('convertToInteractive',\n",
              "                                                     [key], {});\n",
              "          if (!dataTable) return;\n",
              "\n",
              "          const docLinkHtml = 'Like what you see? Visit the ' +\n",
              "            '<a target=\"_blank\" href=https://colab.research.google.com/notebooks/data_table.ipynb>data table notebook</a>'\n",
              "            + ' to learn more about interactive tables.';\n",
              "          element.innerHTML = '';\n",
              "          dataTable['output_type'] = 'display_data';\n",
              "          await google.colab.output.renderOutput(dataTable, element);\n",
              "          const docLink = document.createElement('div');\n",
              "          docLink.innerHTML = docLinkHtml;\n",
              "          element.appendChild(docLink);\n",
              "        }\n",
              "      </script>\n",
              "    </div>\n",
              "  </div>\n",
              "  "
            ]
          },
          "metadata": {},
          "execution_count": 6
        }
      ]
    },
    {
      "cell_type": "code",
      "source": [
        "dataastro.info()\n",
        "#no null values as we can see"
      ],
      "metadata": {
        "colab": {
          "base_uri": "https://localhost:8080/"
        },
        "id": "ESRmdQDeJ2Rd",
        "outputId": "cb4177c4-7bb2-429f-8cbb-050e5a9077cd"
      },
      "execution_count": 8,
      "outputs": [
        {
          "output_type": "stream",
          "name": "stdout",
          "text": [
            "<class 'pandas.core.frame.DataFrame'>\n",
            "RangeIndex: 546 entries, 0 to 545\n",
            "Data columns (total 18 columns):\n",
            " #   Column      Non-Null Count  Dtype  \n",
            "---  ------      --------------  -----  \n",
            " 0   Unnamed: 0  546 non-null    int64  \n",
            " 1   u-g         546 non-null    float64\n",
            " 2   g-r         546 non-null    float64\n",
            " 3   r-i         546 non-null    float64\n",
            " 4   i-z         546 non-null    float64\n",
            " 5   ecc         546 non-null    float64\n",
            " 6   m4_u        546 non-null    float64\n",
            " 7   m4_g        546 non-null    float64\n",
            " 8   m4_r        546 non-null    float64\n",
            " 9   m4_i        546 non-null    float64\n",
            " 10  m4_z        546 non-null    float64\n",
            " 11  petroR50_u  546 non-null    float64\n",
            " 12  petroR50_r  546 non-null    float64\n",
            " 13  petroR50_z  546 non-null    float64\n",
            " 14  petroR90_u  546 non-null    float64\n",
            " 15  petroR90_r  546 non-null    float64\n",
            " 16  petroR90_z  546 non-null    float64\n",
            " 17  class       546 non-null    object \n",
            "dtypes: float64(16), int64(1), object(1)\n",
            "memory usage: 76.9+ KB\n"
          ]
        }
      ]
    },
    {
      "cell_type": "code",
      "source": [
        "dataastro.describe()\n",
        "#the difference between max and 75 perc indicates possibility of outliers"
      ],
      "metadata": {
        "colab": {
          "base_uri": "https://localhost:8080/",
          "height": 382
        },
        "id": "Pq2MG_ChJ7dR",
        "outputId": "a8362b61-c650-4206-b77e-4e3228404de3"
      },
      "execution_count": 9,
      "outputs": [
        {
          "output_type": "execute_result",
          "data": {
            "text/plain": [
              "       Unnamed: 0         u-g         g-r         r-i         i-z         ecc  \\\n",
              "count  546.000000  546.000000  546.000000  546.000000  546.000000  546.000000   \n",
              "mean   272.500000    1.621031    0.738487    0.386943    0.262595    0.706210   \n",
              "std    157.760895    0.444366    0.371408    0.093002    0.385598    0.172141   \n",
              "min      0.000000    0.023010   -4.708600   -0.630590   -6.954270    0.226894   \n",
              "25%    136.250000    1.333158    0.613480    0.352258    0.228042    0.581773   \n",
              "50%    272.500000    1.685430    0.783180    0.397610    0.289395    0.739144   \n",
              "75%    408.750000    1.908080    0.894947    0.429560    0.324175    0.846769   \n",
              "max    545.000000    7.387130    1.539170    0.729730    4.879330    0.996409   \n",
              "\n",
              "              m4_u        m4_g         m4_r         m4_i         m4_z  \\\n",
              "count   546.000000  546.000000   546.000000   546.000000   546.000000   \n",
              "mean    -16.064267    2.322630   -15.950923   -34.253038   -15.933738   \n",
              "std     428.015446    0.161151   428.018997   604.755608   428.019737   \n",
              "min   -9999.000000    0.576167 -9999.000000 -9999.000000 -9999.000000   \n",
              "25%       2.116728    2.225103     2.300352     2.321738     2.326324   \n",
              "50%       2.265292    2.351189     2.381582     2.394982     2.392273   \n",
              "75%       2.390433    2.423310     2.439580     2.454056     2.454534   \n",
              "max      26.009380    2.690040     2.737767     2.728628     2.730472   \n",
              "\n",
              "        petroR50_u  petroR50_r   petroR50_z   petroR90_u  petroR90_r  \\\n",
              "count   546.000000  546.000000   546.000000   546.000000  546.000000   \n",
              "mean    -31.401765    4.785159   -32.370787   -23.948400   12.526925   \n",
              "std     604.939673    3.210711   604.877694   605.452545    7.893868   \n",
              "min   -9999.000000    0.617535 -9999.000000 -9999.000000    1.031904   \n",
              "25%       2.841682    2.962981     2.579287     7.207228    8.202056   \n",
              "50%       4.415234    3.964163     3.499351    10.654170   10.583790   \n",
              "75%       6.264471    5.509680     4.978661    15.189455   14.445925   \n",
              "max      30.995970   36.376200    39.350240   112.493900   83.937670   \n",
              "\n",
              "        petroR90_z  \n",
              "count   546.000000  \n",
              "mean    -25.316320  \n",
              "std     605.342460  \n",
              "min   -9999.000000  \n",
              "25%       7.193998  \n",
              "50%       9.485076  \n",
              "75%      13.508085  \n",
              "max      95.710950  "
            ],
            "text/html": [
              "\n",
              "  <div id=\"df-8868c689-c11c-4a6d-9c4c-24833e0c98ee\">\n",
              "    <div class=\"colab-df-container\">\n",
              "      <div>\n",
              "<style scoped>\n",
              "    .dataframe tbody tr th:only-of-type {\n",
              "        vertical-align: middle;\n",
              "    }\n",
              "\n",
              "    .dataframe tbody tr th {\n",
              "        vertical-align: top;\n",
              "    }\n",
              "\n",
              "    .dataframe thead th {\n",
              "        text-align: right;\n",
              "    }\n",
              "</style>\n",
              "<table border=\"1\" class=\"dataframe\">\n",
              "  <thead>\n",
              "    <tr style=\"text-align: right;\">\n",
              "      <th></th>\n",
              "      <th>Unnamed: 0</th>\n",
              "      <th>u-g</th>\n",
              "      <th>g-r</th>\n",
              "      <th>r-i</th>\n",
              "      <th>i-z</th>\n",
              "      <th>ecc</th>\n",
              "      <th>m4_u</th>\n",
              "      <th>m4_g</th>\n",
              "      <th>m4_r</th>\n",
              "      <th>m4_i</th>\n",
              "      <th>m4_z</th>\n",
              "      <th>petroR50_u</th>\n",
              "      <th>petroR50_r</th>\n",
              "      <th>petroR50_z</th>\n",
              "      <th>petroR90_u</th>\n",
              "      <th>petroR90_r</th>\n",
              "      <th>petroR90_z</th>\n",
              "    </tr>\n",
              "  </thead>\n",
              "  <tbody>\n",
              "    <tr>\n",
              "      <th>count</th>\n",
              "      <td>546.000000</td>\n",
              "      <td>546.000000</td>\n",
              "      <td>546.000000</td>\n",
              "      <td>546.000000</td>\n",
              "      <td>546.000000</td>\n",
              "      <td>546.000000</td>\n",
              "      <td>546.000000</td>\n",
              "      <td>546.000000</td>\n",
              "      <td>546.000000</td>\n",
              "      <td>546.000000</td>\n",
              "      <td>546.000000</td>\n",
              "      <td>546.000000</td>\n",
              "      <td>546.000000</td>\n",
              "      <td>546.000000</td>\n",
              "      <td>546.000000</td>\n",
              "      <td>546.000000</td>\n",
              "      <td>546.000000</td>\n",
              "    </tr>\n",
              "    <tr>\n",
              "      <th>mean</th>\n",
              "      <td>272.500000</td>\n",
              "      <td>1.621031</td>\n",
              "      <td>0.738487</td>\n",
              "      <td>0.386943</td>\n",
              "      <td>0.262595</td>\n",
              "      <td>0.706210</td>\n",
              "      <td>-16.064267</td>\n",
              "      <td>2.322630</td>\n",
              "      <td>-15.950923</td>\n",
              "      <td>-34.253038</td>\n",
              "      <td>-15.933738</td>\n",
              "      <td>-31.401765</td>\n",
              "      <td>4.785159</td>\n",
              "      <td>-32.370787</td>\n",
              "      <td>-23.948400</td>\n",
              "      <td>12.526925</td>\n",
              "      <td>-25.316320</td>\n",
              "    </tr>\n",
              "    <tr>\n",
              "      <th>std</th>\n",
              "      <td>157.760895</td>\n",
              "      <td>0.444366</td>\n",
              "      <td>0.371408</td>\n",
              "      <td>0.093002</td>\n",
              "      <td>0.385598</td>\n",
              "      <td>0.172141</td>\n",
              "      <td>428.015446</td>\n",
              "      <td>0.161151</td>\n",
              "      <td>428.018997</td>\n",
              "      <td>604.755608</td>\n",
              "      <td>428.019737</td>\n",
              "      <td>604.939673</td>\n",
              "      <td>3.210711</td>\n",
              "      <td>604.877694</td>\n",
              "      <td>605.452545</td>\n",
              "      <td>7.893868</td>\n",
              "      <td>605.342460</td>\n",
              "    </tr>\n",
              "    <tr>\n",
              "      <th>min</th>\n",
              "      <td>0.000000</td>\n",
              "      <td>0.023010</td>\n",
              "      <td>-4.708600</td>\n",
              "      <td>-0.630590</td>\n",
              "      <td>-6.954270</td>\n",
              "      <td>0.226894</td>\n",
              "      <td>-9999.000000</td>\n",
              "      <td>0.576167</td>\n",
              "      <td>-9999.000000</td>\n",
              "      <td>-9999.000000</td>\n",
              "      <td>-9999.000000</td>\n",
              "      <td>-9999.000000</td>\n",
              "      <td>0.617535</td>\n",
              "      <td>-9999.000000</td>\n",
              "      <td>-9999.000000</td>\n",
              "      <td>1.031904</td>\n",
              "      <td>-9999.000000</td>\n",
              "    </tr>\n",
              "    <tr>\n",
              "      <th>25%</th>\n",
              "      <td>136.250000</td>\n",
              "      <td>1.333158</td>\n",
              "      <td>0.613480</td>\n",
              "      <td>0.352258</td>\n",
              "      <td>0.228042</td>\n",
              "      <td>0.581773</td>\n",
              "      <td>2.116728</td>\n",
              "      <td>2.225103</td>\n",
              "      <td>2.300352</td>\n",
              "      <td>2.321738</td>\n",
              "      <td>2.326324</td>\n",
              "      <td>2.841682</td>\n",
              "      <td>2.962981</td>\n",
              "      <td>2.579287</td>\n",
              "      <td>7.207228</td>\n",
              "      <td>8.202056</td>\n",
              "      <td>7.193998</td>\n",
              "    </tr>\n",
              "    <tr>\n",
              "      <th>50%</th>\n",
              "      <td>272.500000</td>\n",
              "      <td>1.685430</td>\n",
              "      <td>0.783180</td>\n",
              "      <td>0.397610</td>\n",
              "      <td>0.289395</td>\n",
              "      <td>0.739144</td>\n",
              "      <td>2.265292</td>\n",
              "      <td>2.351189</td>\n",
              "      <td>2.381582</td>\n",
              "      <td>2.394982</td>\n",
              "      <td>2.392273</td>\n",
              "      <td>4.415234</td>\n",
              "      <td>3.964163</td>\n",
              "      <td>3.499351</td>\n",
              "      <td>10.654170</td>\n",
              "      <td>10.583790</td>\n",
              "      <td>9.485076</td>\n",
              "    </tr>\n",
              "    <tr>\n",
              "      <th>75%</th>\n",
              "      <td>408.750000</td>\n",
              "      <td>1.908080</td>\n",
              "      <td>0.894947</td>\n",
              "      <td>0.429560</td>\n",
              "      <td>0.324175</td>\n",
              "      <td>0.846769</td>\n",
              "      <td>2.390433</td>\n",
              "      <td>2.423310</td>\n",
              "      <td>2.439580</td>\n",
              "      <td>2.454056</td>\n",
              "      <td>2.454534</td>\n",
              "      <td>6.264471</td>\n",
              "      <td>5.509680</td>\n",
              "      <td>4.978661</td>\n",
              "      <td>15.189455</td>\n",
              "      <td>14.445925</td>\n",
              "      <td>13.508085</td>\n",
              "    </tr>\n",
              "    <tr>\n",
              "      <th>max</th>\n",
              "      <td>545.000000</td>\n",
              "      <td>7.387130</td>\n",
              "      <td>1.539170</td>\n",
              "      <td>0.729730</td>\n",
              "      <td>4.879330</td>\n",
              "      <td>0.996409</td>\n",
              "      <td>26.009380</td>\n",
              "      <td>2.690040</td>\n",
              "      <td>2.737767</td>\n",
              "      <td>2.728628</td>\n",
              "      <td>2.730472</td>\n",
              "      <td>30.995970</td>\n",
              "      <td>36.376200</td>\n",
              "      <td>39.350240</td>\n",
              "      <td>112.493900</td>\n",
              "      <td>83.937670</td>\n",
              "      <td>95.710950</td>\n",
              "    </tr>\n",
              "  </tbody>\n",
              "</table>\n",
              "</div>\n",
              "      <button class=\"colab-df-convert\" onclick=\"convertToInteractive('df-8868c689-c11c-4a6d-9c4c-24833e0c98ee')\"\n",
              "              title=\"Convert this dataframe to an interactive table.\"\n",
              "              style=\"display:none;\">\n",
              "        \n",
              "  <svg xmlns=\"http://www.w3.org/2000/svg\" height=\"24px\"viewBox=\"0 0 24 24\"\n",
              "       width=\"24px\">\n",
              "    <path d=\"M0 0h24v24H0V0z\" fill=\"none\"/>\n",
              "    <path d=\"M18.56 5.44l.94 2.06.94-2.06 2.06-.94-2.06-.94-.94-2.06-.94 2.06-2.06.94zm-11 1L8.5 8.5l.94-2.06 2.06-.94-2.06-.94L8.5 2.5l-.94 2.06-2.06.94zm10 10l.94 2.06.94-2.06 2.06-.94-2.06-.94-.94-2.06-.94 2.06-2.06.94z\"/><path d=\"M17.41 7.96l-1.37-1.37c-.4-.4-.92-.59-1.43-.59-.52 0-1.04.2-1.43.59L10.3 9.45l-7.72 7.72c-.78.78-.78 2.05 0 2.83L4 21.41c.39.39.9.59 1.41.59.51 0 1.02-.2 1.41-.59l7.78-7.78 2.81-2.81c.8-.78.8-2.07 0-2.86zM5.41 20L4 18.59l7.72-7.72 1.47 1.35L5.41 20z\"/>\n",
              "  </svg>\n",
              "      </button>\n",
              "      \n",
              "  <style>\n",
              "    .colab-df-container {\n",
              "      display:flex;\n",
              "      flex-wrap:wrap;\n",
              "      gap: 12px;\n",
              "    }\n",
              "\n",
              "    .colab-df-convert {\n",
              "      background-color: #E8F0FE;\n",
              "      border: none;\n",
              "      border-radius: 50%;\n",
              "      cursor: pointer;\n",
              "      display: none;\n",
              "      fill: #1967D2;\n",
              "      height: 32px;\n",
              "      padding: 0 0 0 0;\n",
              "      width: 32px;\n",
              "    }\n",
              "\n",
              "    .colab-df-convert:hover {\n",
              "      background-color: #E2EBFA;\n",
              "      box-shadow: 0px 1px 2px rgba(60, 64, 67, 0.3), 0px 1px 3px 1px rgba(60, 64, 67, 0.15);\n",
              "      fill: #174EA6;\n",
              "    }\n",
              "\n",
              "    [theme=dark] .colab-df-convert {\n",
              "      background-color: #3B4455;\n",
              "      fill: #D2E3FC;\n",
              "    }\n",
              "\n",
              "    [theme=dark] .colab-df-convert:hover {\n",
              "      background-color: #434B5C;\n",
              "      box-shadow: 0px 1px 3px 1px rgba(0, 0, 0, 0.15);\n",
              "      filter: drop-shadow(0px 1px 2px rgba(0, 0, 0, 0.3));\n",
              "      fill: #FFFFFF;\n",
              "    }\n",
              "  </style>\n",
              "\n",
              "      <script>\n",
              "        const buttonEl =\n",
              "          document.querySelector('#df-8868c689-c11c-4a6d-9c4c-24833e0c98ee button.colab-df-convert');\n",
              "        buttonEl.style.display =\n",
              "          google.colab.kernel.accessAllowed ? 'block' : 'none';\n",
              "\n",
              "        async function convertToInteractive(key) {\n",
              "          const element = document.querySelector('#df-8868c689-c11c-4a6d-9c4c-24833e0c98ee');\n",
              "          const dataTable =\n",
              "            await google.colab.kernel.invokeFunction('convertToInteractive',\n",
              "                                                     [key], {});\n",
              "          if (!dataTable) return;\n",
              "\n",
              "          const docLinkHtml = 'Like what you see? Visit the ' +\n",
              "            '<a target=\"_blank\" href=https://colab.research.google.com/notebooks/data_table.ipynb>data table notebook</a>'\n",
              "            + ' to learn more about interactive tables.';\n",
              "          element.innerHTML = '';\n",
              "          dataTable['output_type'] = 'display_data';\n",
              "          await google.colab.output.renderOutput(dataTable, element);\n",
              "          const docLink = document.createElement('div');\n",
              "          docLink.innerHTML = docLinkHtml;\n",
              "          element.appendChild(docLink);\n",
              "        }\n",
              "      </script>\n",
              "    </div>\n",
              "  </div>\n",
              "  "
            ]
          },
          "metadata": {},
          "execution_count": 9
        }
      ]
    },
    {
      "cell_type": "markdown",
      "source": [
        "### Scatter Plots of all columns"
      ],
      "metadata": {
        "id": "BxvffQ1NH9u2"
      }
    },
    {
      "cell_type": "code",
      "source": [
        "for i in dataastro.columns:\n",
        "  plt.scatter(dataastro['Unnamed: 0'],dataastro[i])\n",
        "  plt.ylabel(i)\n",
        "  plt.show()\n",
        "#as we see there are a lot Outliers visible during plotting"
      ],
      "metadata": {
        "colab": {
          "base_uri": "https://localhost:8080/",
          "height": 1000
        },
        "id": "7tb7Te_9oZHc",
        "outputId": "4659898d-bf28-47fe-d473-5397dc8f1d4a"
      },
      "execution_count": 10,
      "outputs": [
        {
          "output_type": "display_data",
          "data": {
            "text/plain": [
              "<Figure size 432x288 with 1 Axes>"
            ],
            "image/png": "[encoded data removed]"
          },
          "metadata": {
            "needs_background": "light"
          }
        },
        {
          "output_type": "display_data",
          "data": {
            "text/plain": [
              "<Figure size 432x288 with 1 Axes>"
            ],
            "image/png": "[encoded data removed]"
          },
          "metadata": {
            "needs_background": "light"
          }
        },
        {
          "output_type": "display_data",
          "data": {
            "text/plain": [
              "<Figure size 432x288 with 1 Axes>"
            ],
            "image/png": "[encoded data removed]"
          },
          "metadata": {
            "needs_background": "light"
          }
        },
        {
          "output_type": "display_data",
          "data": {
            "text/plain": [
              "<Figure size 432x288 with 1 Axes>"
            ],
            "image/png": "[encoded data removed]"
          },
          "metadata": {
            "needs_background": "light"
          }
        },
        {
          "output_type": "display_data",
          "data": {
            "text/plain": [
              "<Figure size 432x288 with 1 Axes>"
            ],
            "image/png": "[encoded data removed]"
          },
          "metadata": {
            "needs_background": "light"
          }
        },
        {
          "output_type": "display_data",
          "data": {
            "text/plain": [
              "<Figure size 432x288 with 1 Axes>"
            ],
            "image/png": "[encoded data removed]"
          },
          "metadata": {
            "needs_background": "light"
          }
        },
        {
          "output_type": "display_data",
          "data": {
            "text/plain": [
              "<Figure size 432x288 with 1 Axes>"
            ],
            "image/png": "[encoded data removed]"
          },
          "metadata": {
            "needs_background": "light"
          }
        },
        {
          "output_type": "display_data",
          "data": {
            "text/plain": [
              "<Figure size 432x288 with 1 Axes>"
            ],
            "image/png": "[encoded data removed]"
          },
          "metadata": {
            "needs_background": "light"
          }
        },
        {
          "output_type": "display_data",
          "data": {
            "text/plain": [
              "<Figure size 432x288 with 1 Axes>"
            ],
            "image/png": "[encoded data removed]"
          },
          "metadata": {
            "needs_background": "light"
          }
        },
        {
          "output_type": "display_data",
          "data": {
            "text/plain": [
              "<Figure size 432x288 with 1 Axes>"
            ],
            "image/png": "[encoded data removed]"
          },
          "metadata": {
            "needs_background": "light"
          }
        },
        {
          "output_type": "display_data",
          "data": {
            "text/plain": [
              "<Figure size 432x288 with 1 Axes>"
            ],
            "image/png": "[encoded data removed]"
          },
          "metadata": {
            "needs_background": "light"
          }
        },
        {
          "output_type": "display_data",
          "data": {
            "text/plain": [
              "<Figure size 432x288 with 1 Axes>"
            ],
            "image/png": "[encoded data removed]"
          },
          "metadata": {
            "needs_background": "light"
          }
        },
        {
          "output_type": "display_data",
          "data": {
            "text/plain": [
              "<Figure size 432x288 with 1 Axes>"
            ],
            "image/png": "[encoded data removed]"
          },
          "metadata": {
            "needs_background": "light"
          }
        },
        {
          "output_type": "display_data",
          "data": {
            "text/plain": [
              "<Figure size 432x288 with 1 Axes>"
            ],
            "image/png": "[encoded data removed]"
          },
          "metadata": {
            "needs_background": "light"
          }
        },
        {
          "output_type": "display_data",
          "data": {
            "text/plain": [
              "<Figure size 432x288 with 1 Axes>"
            ],
            "image/png": "[encoded data removed]"
          },
          "metadata": {
            "needs_background": "light"
          }
        },
        {
          "output_type": "display_data",
          "data": {
            "text/plain": [
              "<Figure size 432x288 with 1 Axes>"
            ],
            "image/png": "[encoded data removed]"
          },
          "metadata": {
            "needs_background": "light"
          }
        },
        {
          "output_type": "display_data",
          "data": {
            "text/plain": [
              "<Figure size 432x288 with 1 Axes>"
            ],
            "image/png": "[encoded data removed]"
          },
          "metadata": {
            "needs_background": "light"
          }
        },
        {
          "output_type": "display_data",
          "data": {
            "text/plain": [
              "<Figure size 432x288 with 1 Axes>"
            ],
            "image/png": "[encoded data removed]"
          },
          "metadata": {
            "needs_background": "light"
          }
        }
      ]
    },
    {
      "cell_type": "code",
      "source": [
        "#No of datapoints in each class\n",
        "dataastro.groupby(['class'])['class'].count()"
      ],
      "metadata": {
        "colab": {
          "base_uri": "https://localhost:8080/"
        },
        "id": "Wp3FBUO8t0pM",
        "outputId": "108ce536-988c-40fe-9e8b-2c2c19d8b1c4"
      },
      "execution_count": 11,
      "outputs": [
        {
          "output_type": "execute_result",
          "data": {
            "text/plain": [
              "class\n",
              "elliptical    177\n",
              "merger        180\n",
              "spiral        189\n",
              "Name: class, dtype: int64"
            ]
          },
          "metadata": {},
          "execution_count": 11
        }
      ]
    },
    {
      "cell_type": "markdown",
      "source": [
        "## Removing Outliers"
      ],
      "metadata": {
        "id": "AhLiNXS_zX09"
      }
    },
    {
      "cell_type": "code",
      "source": [
        "dataset=dataastro\n"
      ],
      "metadata": {
        "id": "xCL0Prps3kek"
      },
      "execution_count": 12,
      "outputs": []
    },
    {
      "cell_type": "code",
      "source": [
        "for i in range(len(dataset.columns)-1):\n",
        "  per75=dataastro.iloc[:,i].quantile(0.75)\n",
        "  per25=dataastro.iloc[:,i].quantile(0.25)\n",
        "  factor=per75-per25\n",
        "  dataset=dataset.drop(dataset[np.logical_or(dataset.iloc[:,i] < (per25 - 1.5 * factor),dataset.iloc[:,i] > (per75 + 1.5 * factor))].index)"
      ],
      "metadata": {
        "id": "NifjV-Fnzd8q"
      },
      "execution_count": 13,
      "outputs": []
    },
    {
      "cell_type": "code",
      "source": [
        "#No of datapoints in each class after filtering\n",
        "dataset.groupby(['class'])['class'].count()"
      ],
      "metadata": {
        "colab": {
          "base_uri": "https://localhost:8080/"
        },
        "id": "Aj2PGfHs1jtE",
        "outputId": "4d1ce92e-39a6-49f3-dbd1-388cbf1b4ba4"
      },
      "execution_count": 14,
      "outputs": [
        {
          "output_type": "execute_result",
          "data": {
            "text/plain": [
              "class\n",
              "elliptical    158\n",
              "merger        126\n",
              "spiral        124\n",
              "Name: class, dtype: int64"
            ]
          },
          "metadata": {},
          "execution_count": 14
        }
      ]
    },
    {
      "cell_type": "code",
      "source": [
        "dataset=dataset.drop('Unnamed: 0',axis=1)\n",
        "dataset=dataset.reset_index()\n",
        "dataset=dataset.drop('index',axis=1)"
      ],
      "metadata": {
        "id": "Xg41X5HWA1r3"
      },
      "execution_count": 15,
      "outputs": []
    },
    {
      "cell_type": "markdown",
      "source": [
        "### Separating features and labels"
      ],
      "metadata": {
        "id": "XpngXXrgJ-V7"
      }
    },
    {
      "cell_type": "code",
      "source": [
        "\n",
        "datalabel=dataset['class']\n",
        "datafeat=dataset.drop(['class'],axis=1)\n",
        "#for dummy testuse later\n",
        "datafeat.to_csv(outputdir+'dummytest.csv')\n",
        "datafeat"
      ],
      "metadata": {
        "colab": {
          "base_uri": "https://localhost:8080/",
          "height": 424
        },
        "id": "QpK8jEMjI8L7",
        "outputId": "d1116f0c-3668-4871-aa7d-4418b7f18e3a"
      },
      "execution_count": 30,
      "outputs": [
        {
          "output_type": "execute_result",
          "data": {
            "text/plain": [
              "         u-g      g-r      r-i      i-z       ecc      m4_u      m4_g  \\\n",
              "0    1.45293  0.63368  0.40208  0.26573  0.390929  2.110849  2.156260   \n",
              "1    1.56972  0.63443  0.34753  0.15197  0.915341  2.352859  2.433820   \n",
              "2    1.46475  0.55405  0.36165  0.19781  0.540382  1.827454  2.003867   \n",
              "3    1.95080  0.88949  0.40561  0.32002  0.895771  2.444309  2.463624   \n",
              "4    2.03924  1.03214  0.42926  0.35035  0.906710  2.338428  2.368874   \n",
              "..       ...      ...      ...      ...       ...       ...       ...   \n",
              "403  1.74008  1.03091  0.44769  0.29487  0.722295  2.467585  2.354569   \n",
              "404  1.74526  0.84755  0.45648  0.33945  0.448275  2.144437  2.325891   \n",
              "405  1.98799  0.99956  0.42696  0.36499  0.867389  2.380038  2.314563   \n",
              "406  1.93320  0.90821  0.40950  0.30650  0.966950  2.201478  2.286988   \n",
              "407  1.79745  0.96135  0.43979  0.31400  0.501084  2.277349  2.420978   \n",
              "\n",
              "         m4_r      m4_i      m4_z  petroR50_u  petroR50_r  petroR50_z  \\\n",
              "0    2.143514  2.234040  2.247642    1.666188    1.683902    1.375343   \n",
              "1    2.471458  2.509777  2.517170    9.588296    8.813774    7.456224   \n",
              "2    2.121698  2.175802  2.234748    4.358751    4.622508    4.221008   \n",
              "3    2.439433  2.424131  2.404567    7.495163    5.190655    4.992559   \n",
              "4    2.358188  2.397348  2.364135    2.464064    2.392333    2.247000   \n",
              "..        ...       ...       ...         ...         ...         ...   \n",
              "403  2.375811  2.391762  2.371070    4.524202    3.242836    2.468044   \n",
              "404  2.359190  2.359857  2.425203    5.893588    4.987450    4.776126   \n",
              "405  2.373675  2.359678  2.355044    2.621158    2.525896    2.594247   \n",
              "406  2.314348  2.324615  2.315512    2.066934    1.955862    1.841433   \n",
              "407  2.444450  2.446930  2.427242    4.709179    3.252675    2.300016   \n",
              "\n",
              "     petroR90_u  petroR90_r  petroR90_z  \n",
              "0      3.026231    3.700802    3.074833  \n",
              "1     21.645460   22.488610   20.188500  \n",
              "2      8.496148    9.563267    9.114655  \n",
              "3     21.047320   15.879200   14.782440  \n",
              "4      8.777987    7.884397    7.387922  \n",
              "..          ...         ...         ...  \n",
              "403   13.984660   11.671590    9.855418  \n",
              "404   14.274740   12.674490   13.718050  \n",
              "405    5.187862    7.827496    7.959360  \n",
              "406    6.857877    6.108925    5.932195  \n",
              "407   12.701660    7.843932    5.798290  \n",
              "\n",
              "[408 rows x 16 columns]"
            ],
            "text/html": [
              "\n",
              "  <div id=\"df-1a00d47a-e002-4949-9dbc-da3eed99dbfc\">\n",
              "    <div class=\"colab-df-container\">\n",
              "      <div>\n",
              "<style scoped>\n",
              "    .dataframe tbody tr th:only-of-type {\n",
              "        vertical-align: middle;\n",
              "    }\n",
              "\n",
              "    .dataframe tbody tr th {\n",
              "        vertical-align: top;\n",
              "    }\n",
              "\n",
              "    .dataframe thead th {\n",
              "        text-align: right;\n",
              "    }\n",
              "</style>\n",
              "<table border=\"1\" class=\"dataframe\">\n",
              "  <thead>\n",
              "    <tr style=\"text-align: right;\">\n",
              "      <th></th>\n",
              "      <th>u-g</th>\n",
              "      <th>g-r</th>\n",
              "      <th>r-i</th>\n",
              "      <th>i-z</th>\n",
              "      <th>ecc</th>\n",
              "      <th>m4_u</th>\n",
              "      <th>m4_g</th>\n",
              "      <th>m4_r</th>\n",
              "      <th>m4_i</th>\n",
              "      <th>m4_z</th>\n",
              "      <th>petroR50_u</th>\n",
              "      <th>petroR50_r</th>\n",
              "      <th>petroR50_z</th>\n",
              "      <th>petroR90_u</th>\n",
              "      <th>petroR90_r</th>\n",
              "      <th>petroR90_z</th>\n",
              "    </tr>\n",
              "  </thead>\n",
              "  <tbody>\n",
              "    <tr>\n",
              "      <th>0</th>\n",
              "      <td>1.45293</td>\n",
              "      <td>0.63368</td>\n",
              "      <td>0.40208</td>\n",
              "      <td>0.26573</td>\n",
              "      <td>0.390929</td>\n",
              "      <td>2.110849</td>\n",
              "      <td>2.156260</td>\n",
              "      <td>2.143514</td>\n",
              "      <td>2.234040</td>\n",
              "      <td>2.247642</td>\n",
              "      <td>1.666188</td>\n",
              "      <td>1.683902</td>\n",
              "      <td>1.375343</td>\n",
              "      <td>3.026231</td>\n",
              "      <td>3.700802</td>\n",
              "      <td>3.074833</td>\n",
              "    </tr>\n",
              "    <tr>\n",
              "      <th>1</th>\n",
              "      <td>1.56972</td>\n",
              "      <td>0.63443</td>\n",
              "      <td>0.34753</td>\n",
              "      <td>0.15197</td>\n",
              "      <td>0.915341</td>\n",
              "      <td>2.352859</td>\n",
              "      <td>2.433820</td>\n",
              "      <td>2.471458</td>\n",
              "      <td>2.509777</td>\n",
              "      <td>2.517170</td>\n",
              "      <td>9.588296</td>\n",
              "      <td>8.813774</td>\n",
              "      <td>7.456224</td>\n",
              "      <td>21.645460</td>\n",
              "      <td>22.488610</td>\n",
              "      <td>20.188500</td>\n",
              "    </tr>\n",
              "    <tr>\n",
              "      <th>2</th>\n",
              "      <td>1.46475</td>\n",
              "      <td>0.55405</td>\n",
              "      <td>0.36165</td>\n",
              "      <td>0.19781</td>\n",
              "      <td>0.540382</td>\n",
              "      <td>1.827454</td>\n",
              "      <td>2.003867</td>\n",
              "      <td>2.121698</td>\n",
              "      <td>2.175802</td>\n",
              "      <td>2.234748</td>\n",
              "      <td>4.358751</td>\n",
              "      <td>4.622508</td>\n",
              "      <td>4.221008</td>\n",
              "      <td>8.496148</td>\n",
              "      <td>9.563267</td>\n",
              "      <td>9.114655</td>\n",
              "    </tr>\n",
              "    <tr>\n",
              "      <th>3</th>\n",
              "      <td>1.95080</td>\n",
              "      <td>0.88949</td>\n",
              "      <td>0.40561</td>\n",
              "      <td>0.32002</td>\n",
              "      <td>0.895771</td>\n",
              "      <td>2.444309</td>\n",
              "      <td>2.463624</td>\n",
              "      <td>2.439433</td>\n",
              "      <td>2.424131</td>\n",
              "      <td>2.404567</td>\n",
              "      <td>7.495163</td>\n",
              "      <td>5.190655</td>\n",
              "      <td>4.992559</td>\n",
              "      <td>21.047320</td>\n",
              "      <td>15.879200</td>\n",
              "      <td>14.782440</td>\n",
              "    </tr>\n",
              "    <tr>\n",
              "      <th>4</th>\n",
              "      <td>2.03924</td>\n",
              "      <td>1.03214</td>\n",
              "      <td>0.42926</td>\n",
              "      <td>0.35035</td>\n",
              "      <td>0.906710</td>\n",
              "      <td>2.338428</td>\n",
              "      <td>2.368874</td>\n",
              "      <td>2.358188</td>\n",
              "      <td>2.397348</td>\n",
              "      <td>2.364135</td>\n",
              "      <td>2.464064</td>\n",
              "      <td>2.392333</td>\n",
              "      <td>2.247000</td>\n",
              "      <td>8.777987</td>\n",
              "      <td>7.884397</td>\n",
              "      <td>7.387922</td>\n",
              "    </tr>\n",
              "    <tr>\n",
              "      <th>...</th>\n",
              "      <td>...</td>\n",
              "      <td>...</td>\n",
              "      <td>...</td>\n",
              "      <td>...</td>\n",
              "      <td>...</td>\n",
              "      <td>...</td>\n",
              "      <td>...</td>\n",
              "      <td>...</td>\n",
              "      <td>...</td>\n",
              "      <td>...</td>\n",
              "      <td>...</td>\n",
              "      <td>...</td>\n",
              "      <td>...</td>\n",
              "      <td>...</td>\n",
              "      <td>...</td>\n",
              "      <td>...</td>\n",
              "    </tr>\n",
              "    <tr>\n",
              "      <th>403</th>\n",
              "      <td>1.74008</td>\n",
              "      <td>1.03091</td>\n",
              "      <td>0.44769</td>\n",
              "      <td>0.29487</td>\n",
              "      <td>0.722295</td>\n",
              "      <td>2.467585</td>\n",
              "      <td>2.354569</td>\n",
              "      <td>2.375811</td>\n",
              "      <td>2.391762</td>\n",
              "      <td>2.371070</td>\n",
              "      <td>4.524202</td>\n",
              "      <td>3.242836</td>\n",
              "      <td>2.468044</td>\n",
              "      <td>13.984660</td>\n",
              "      <td>11.671590</td>\n",
              "      <td>9.855418</td>\n",
              "    </tr>\n",
              "    <tr>\n",
              "      <th>404</th>\n",
              "      <td>1.74526</td>\n",
              "      <td>0.84755</td>\n",
              "      <td>0.45648</td>\n",
              "      <td>0.33945</td>\n",
              "      <td>0.448275</td>\n",
              "      <td>2.144437</td>\n",
              "      <td>2.325891</td>\n",
              "      <td>2.359190</td>\n",
              "      <td>2.359857</td>\n",
              "      <td>2.425203</td>\n",
              "      <td>5.893588</td>\n",
              "      <td>4.987450</td>\n",
              "      <td>4.776126</td>\n",
              "      <td>14.274740</td>\n",
              "      <td>12.674490</td>\n",
              "      <td>13.718050</td>\n",
              "    </tr>\n",
              "    <tr>\n",
              "      <th>405</th>\n",
              "      <td>1.98799</td>\n",
              "      <td>0.99956</td>\n",
              "      <td>0.42696</td>\n",
              "      <td>0.36499</td>\n",
              "      <td>0.867389</td>\n",
              "      <td>2.380038</td>\n",
              "      <td>2.314563</td>\n",
              "      <td>2.373675</td>\n",
              "      <td>2.359678</td>\n",
              "      <td>2.355044</td>\n",
              "      <td>2.621158</td>\n",
              "      <td>2.525896</td>\n",
              "      <td>2.594247</td>\n",
              "      <td>5.187862</td>\n",
              "      <td>7.827496</td>\n",
              "      <td>7.959360</td>\n",
              "    </tr>\n",
              "    <tr>\n",
              "      <th>406</th>\n",
              "      <td>1.93320</td>\n",
              "      <td>0.90821</td>\n",
              "      <td>0.40950</td>\n",
              "      <td>0.30650</td>\n",
              "      <td>0.966950</td>\n",
              "      <td>2.201478</td>\n",
              "      <td>2.286988</td>\n",
              "      <td>2.314348</td>\n",
              "      <td>2.324615</td>\n",
              "      <td>2.315512</td>\n",
              "      <td>2.066934</td>\n",
              "      <td>1.955862</td>\n",
              "      <td>1.841433</td>\n",
              "      <td>6.857877</td>\n",
              "      <td>6.108925</td>\n",
              "      <td>5.932195</td>\n",
              "    </tr>\n",
              "    <tr>\n",
              "      <th>407</th>\n",
              "      <td>1.79745</td>\n",
              "      <td>0.96135</td>\n",
              "      <td>0.43979</td>\n",
              "      <td>0.31400</td>\n",
              "      <td>0.501084</td>\n",
              "      <td>2.277349</td>\n",
              "      <td>2.420978</td>\n",
              "      <td>2.444450</td>\n",
              "      <td>2.446930</td>\n",
              "      <td>2.427242</td>\n",
              "      <td>4.709179</td>\n",
              "      <td>3.252675</td>\n",
              "      <td>2.300016</td>\n",
              "      <td>12.701660</td>\n",
              "      <td>7.843932</td>\n",
              "      <td>5.798290</td>\n",
              "    </tr>\n",
              "  </tbody>\n",
              "</table>\n",
              "<p>408 rows × 16 columns</p>\n",
              "</div>\n",
              "      <button class=\"colab-df-convert\" onclick=\"convertToInteractive('df-1a00d47a-e002-4949-9dbc-da3eed99dbfc')\"\n",
              "              title=\"Convert this dataframe to an interactive table.\"\n",
              "              style=\"display:none;\">\n",
              "        \n",
              "  <svg xmlns=\"http://www.w3.org/2000/svg\" height=\"24px\"viewBox=\"0 0 24 24\"\n",
              "       width=\"24px\">\n",
              "    <path d=\"M0 0h24v24H0V0z\" fill=\"none\"/>\n",
              "    <path d=\"M18.56 5.44l.94 2.06.94-2.06 2.06-.94-2.06-.94-.94-2.06-.94 2.06-2.06.94zm-11 1L8.5 8.5l.94-2.06 2.06-.94-2.06-.94L8.5 2.5l-.94 2.06-2.06.94zm10 10l.94 2.06.94-2.06 2.06-.94-2.06-.94-.94-2.06-.94 2.06-2.06.94z\"/><path d=\"M17.41 7.96l-1.37-1.37c-.4-.4-.92-.59-1.43-.59-.52 0-1.04.2-1.43.59L10.3 9.45l-7.72 7.72c-.78.78-.78 2.05 0 2.83L4 21.41c.39.39.9.59 1.41.59.51 0 1.02-.2 1.41-.59l7.78-7.78 2.81-2.81c.8-.78.8-2.07 0-2.86zM5.41 20L4 18.59l7.72-7.72 1.47 1.35L5.41 20z\"/>\n",
              "  </svg>\n",
              "      </button>\n",
              "      \n",
              "  <style>\n",
              "    .colab-df-container {\n",
              "      display:flex;\n",
              "      flex-wrap:wrap;\n",
              "      gap: 12px;\n",
              "    }\n",
              "\n",
              "    .colab-df-convert {\n",
              "      background-color: #E8F0FE;\n",
              "      border: none;\n",
              "      border-radius: 50%;\n",
              "      cursor: pointer;\n",
              "      display: none;\n",
              "      fill: #1967D2;\n",
              "      height: 32px;\n",
              "      padding: 0 0 0 0;\n",
              "      width: 32px;\n",
              "    }\n",
              "\n",
              "    .colab-df-convert:hover {\n",
              "      background-color: #E2EBFA;\n",
              "      box-shadow: 0px 1px 2px rgba(60, 64, 67, 0.3), 0px 1px 3px 1px rgba(60, 64, 67, 0.15);\n",
              "      fill: #174EA6;\n",
              "    }\n",
              "\n",
              "    [theme=dark] .colab-df-convert {\n",
              "      background-color: #3B4455;\n",
              "      fill: #D2E3FC;\n",
              "    }\n",
              "\n",
              "    [theme=dark] .colab-df-convert:hover {\n",
              "      background-color: #434B5C;\n",
              "      box-shadow: 0px 1px 3px 1px rgba(0, 0, 0, 0.15);\n",
              "      filter: drop-shadow(0px 1px 2px rgba(0, 0, 0, 0.3));\n",
              "      fill: #FFFFFF;\n",
              "    }\n",
              "  </style>\n",
              "\n",
              "      <script>\n",
              "        const buttonEl =\n",
              "          document.querySelector('#df-1a00d47a-e002-4949-9dbc-da3eed99dbfc button.colab-df-convert');\n",
              "        buttonEl.style.display =\n",
              "          google.colab.kernel.accessAllowed ? 'block' : 'none';\n",
              "\n",
              "        async function convertToInteractive(key) {\n",
              "          const element = document.querySelector('#df-1a00d47a-e002-4949-9dbc-da3eed99dbfc');\n",
              "          const dataTable =\n",
              "            await google.colab.kernel.invokeFunction('convertToInteractive',\n",
              "                                                     [key], {});\n",
              "          if (!dataTable) return;\n",
              "\n",
              "          const docLinkHtml = 'Like what you see? Visit the ' +\n",
              "            '<a target=\"_blank\" href=https://colab.research.google.com/notebooks/data_table.ipynb>data table notebook</a>'\n",
              "            + ' to learn more about interactive tables.';\n",
              "          element.innerHTML = '';\n",
              "          dataTable['output_type'] = 'display_data';\n",
              "          await google.colab.output.renderOutput(dataTable, element);\n",
              "          const docLink = document.createElement('div');\n",
              "          docLink.innerHTML = docLinkHtml;\n",
              "          element.appendChild(docLink);\n",
              "        }\n",
              "      </script>\n",
              "    </div>\n",
              "  </div>\n",
              "  "
            ]
          },
          "metadata": {},
          "execution_count": 30
        }
      ]
    },
    {
      "cell_type": "markdown",
      "source": [
        "## SKlearn Models for getting a benchmark"
      ],
      "metadata": {
        "id": "xXLOqjdLK9iW"
      }
    },
    {
      "cell_type": "code",
      "source": [
        "xtrain,xtest,ytrain,ytest=train_test_split(datafeat,datalabel,test_size=0.2,random_state=11)"
      ],
      "metadata": {
        "id": "gpoFJNPWLDAi"
      },
      "execution_count": 17,
      "outputs": []
    },
    {
      "cell_type": "code",
      "source": [
        "classifier=forest()\n",
        "classifier.fit(xtrain,ytrain)\n",
        "ypred=classifier.predict(xtest)"
      ],
      "metadata": {
        "id": "tYoaPbUFW323"
      },
      "execution_count": 18,
      "outputs": []
    },
    {
      "cell_type": "code",
      "source": [
        "accuracy(ytest,ypred)"
      ],
      "metadata": {
        "colab": {
          "base_uri": "https://localhost:8080/"
        },
        "id": "bdskStLyZluN",
        "outputId": "d129634b-bdc1-408b-e29c-15f65a7f6e83"
      },
      "execution_count": 19,
      "outputs": [
        {
          "output_type": "execute_result",
          "data": {
            "text/plain": [
              "0.8658536585365854"
            ]
          },
          "metadata": {},
          "execution_count": 19
        }
      ]
    },
    {
      "cell_type": "markdown",
      "source": [
        "## Neural Net Model"
      ],
      "metadata": {
        "id": "IV8U8QfNKy5i"
      }
    },
    {
      "cell_type": "markdown",
      "source": [
        "using stratified k fold"
      ],
      "metadata": {
        "id": "jD0E_GvRP5gQ"
      }
    },
    {
      "cell_type": "code",
      "source": [
        "kfold=SKF(n_splits=5,shuffle=True,random_state=11)"
      ],
      "metadata": {
        "id": "aKR9ugdfP4vt"
      },
      "execution_count": 20,
      "outputs": []
    },
    {
      "cell_type": "markdown",
      "source": [
        "### Preparing Dataset for further use"
      ],
      "metadata": {
        "id": "oMpSFGSV3Vyn"
      }
    },
    {
      "cell_type": "code",
      "source": [
        "le1=le()\n",
        "dataf=torch.tensor(np.array(datafeat),dtype=torch.float32)\n",
        "#Encoding the labels and saving it\n",
        "labelf=torch.tensor(le1.fit_transform(datalabel))\n",
        "np.save(outputdir+'encodings.npy',le1.classes_)\n",
        "num_features=dataf.shape[1]"
      ],
      "metadata": {
        "id": "tOU7nfr_j1Dd"
      },
      "execution_count": 21,
      "outputs": []
    },
    {
      "cell_type": "markdown",
      "source": [
        "## Model"
      ],
      "metadata": {
        "id": "cHjpuzYzLmLJ"
      }
    },
    {
      "cell_type": "code",
      "source": [
        "\n",
        "model=nn.Sequential(nn.BatchNorm1d(num_features),\n",
        "    nn.Linear(num_features,8),\n",
        "    nn.ReLU(),\n",
        "    nn.BatchNorm1d(8),\n",
        "    nn.Linear(8,3)\n",
        "    \n",
        ")\n",
        "\n",
        "  "
      ],
      "metadata": {
        "id": "2TK8dtaub5nm"
      },
      "execution_count": 22,
      "outputs": []
    },
    {
      "cell_type": "markdown",
      "source": [
        "Defining OPtimizer and LossFn"
      ],
      "metadata": {
        "id": "EvTgMm-pL_CK"
      }
    },
    {
      "cell_type": "code",
      "source": [
        "optimizer=Adam(model.parameters())\n",
        "loss_fn=nn.CrossEntropyLoss()"
      ],
      "metadata": {
        "id": "n7n-K31Jeq32"
      },
      "execution_count": 23,
      "outputs": []
    },
    {
      "cell_type": "markdown",
      "source": [
        "### Train Function"
      ],
      "metadata": {
        "id": "H38ep3E4MHXF"
      }
    },
    {
      "cell_type": "code",
      "source": [
        "#IT saves the 5 models run on different folds\n",
        "def train(model,optimizer,datafeat,datalabel):\n",
        "  #original dict saved for reinitializing\n",
        "  torch.save(model.state_dict(), outputdir+'cache.pt')\n",
        "  #running across various folds\n",
        "  for i,(train_idx,test_idx) in enumerate(kfold.split(datafeat,datalabel)):\n",
        "    \n",
        "    model.load_state_dict(torch.load(outputdir+'cache.pt'))\n",
        "    #getting the training data and validation data from various folds\n",
        "    xtrain,xtest=datafeat.loc[train_idx],datafeat.loc[test_idx]\n",
        "    ytrain,ytest=datalabel[train_idx],datalabel[test_idx]\n",
        "    xtrain=torch.tensor(np.array(xtrain),dtype=torch.float32)\n",
        "    xtest=torch.tensor(np.array(xtest),dtype=torch.float32)\n",
        "   \n",
        "    #encoding labels\n",
        "    ytrain=torch.tensor(le1.fit_transform(ytrain))\n",
        "    ytest=torch.tensor(le1.fit_transform(ytest))\n",
        "    g=0\n",
        "    #training model\n",
        "    for j in range(2000):\n",
        "       model.train()\n",
        "       ypred=model(xtrain)\n",
        "       loss=loss_fn(ypred,ytrain)\n",
        "       loss.backward()\n",
        "       optimizer.step()\n",
        "       optimizer.zero_grad()\n",
        "    \n",
        "       with torch.no_grad():\n",
        "            model.eval()\n",
        "            ypred2=model(xtest)\n",
        "            valloss=loss_fn(ypred2,ytest)\n",
        "            b=accuracy(softmax(ypred2).argmax(axis=1),ytest)\n",
        "            if j==0:\n",
        "              print(b*100)\n",
        "            if j==0 or g<b:\n",
        "              g=b\n",
        "              torch.save(model,outputdir+'model{}.pth'.format(i))\n",
        "              lossbest=loss\n",
        "    print('fold:{}'.format(i))\n",
        "    print('loss-{}'.format(lossbest))\n",
        "    print('accuracy-{}'.format(g*100))\n",
        "\n",
        "              \n",
        "              \n",
        "\n",
        "  \n"
      ],
      "metadata": {
        "id": "csmULF50d50x"
      },
      "execution_count": 24,
      "outputs": []
    },
    {
      "cell_type": "code",
      "source": [
        "train(model,optimizer,datafeat,datalabel)"
      ],
      "metadata": {
        "colab": {
          "base_uri": "https://localhost:8080/"
        },
        "id": "cA-0MlbE9PBP",
        "outputId": "379001ea-fad0-4310-9279-809873b5046b"
      },
      "execution_count": 25,
      "outputs": [
        {
          "output_type": "stream",
          "name": "stdout",
          "text": [
            "tensor(29.2683)\n",
            "fold:0\n",
            "loss-0.2448049634695053\n",
            "accuracy-86.58536529541016\n",
            "tensor(30.4878)\n",
            "fold:1\n",
            "loss-0.16676999628543854\n",
            "accuracy-87.80487823486328\n",
            "tensor(29.2683)\n",
            "fold:2\n",
            "loss-0.32928407192230225\n",
            "accuracy-90.243896484375\n",
            "tensor(33.3333)\n",
            "fold:3\n",
            "loss-0.1259361207485199\n",
            "accuracy-91.35802459716797\n",
            "tensor(30.8642)\n",
            "fold:4\n",
            "loss-0.11026789247989655\n",
            "accuracy-86.41975402832031\n"
          ]
        }
      ]
    },
    {
      "cell_type": "markdown",
      "source": [
        "### Final Model"
      ],
      "metadata": {
        "id": "jzFI_loyS9Aq"
      }
    },
    {
      "cell_type": "code",
      "source": [
        "#combining all models to form a final model\n",
        "class final_model(nn.Module):\n",
        "  def __init__(self):\n",
        "        super().__init__()\n",
        "        self.model1=torch.load(outputdir+'model0.pth')\n",
        "        self.model1.eval()\n",
        "        self.model2=torch.load(outputdir+'model1.pth')\n",
        "        self.model2.eval()\n",
        "        self.model3=torch.load(outputdir+'model2.pth')\n",
        "        self.model3.eval()\n",
        "        self.model4=torch.load(outputdir+'model3.pth')\n",
        "        self.model4.eval()\n",
        "        self.model5=torch.load(outputdir+'model4.pth')\n",
        "        self.model5.eval()\n",
        "        self\n",
        "  def forward(self,X):\n",
        "    with torch.no_grad():\n",
        "      output=(self.model1(X)+self.model2(X)+self.model3(X)+self.model4(X)+self.model5(X))/5\n",
        "      output=softmax(output).argmax(axis=1)\n",
        "      k=np.array(le1.inverse_transform(output))\n",
        "\n",
        "      return output,k\n",
        "\n"
      ],
      "metadata": {
        "id": "Tx7jiItaPJhm"
      },
      "execution_count": 26,
      "outputs": []
    },
    {
      "cell_type": "code",
      "source": [
        "modelf=final_model()\n",
        "torch.save(modelf,outputdir+'model.pth')\n",
        "\n",
        "ypred,ypredlabel=modelf(dataf)"
      ],
      "metadata": {
        "id": "sI9GXh7EZYwa"
      },
      "execution_count": 27,
      "outputs": []
    },
    {
      "cell_type": "code",
      "source": [
        "print(accuracy(ypred,labelf)*100)"
      ],
      "metadata": {
        "colab": {
          "base_uri": "https://localhost:8080/"
        },
        "id": "EYQ9Cc2zJgP1",
        "outputId": "c7a82161-a0ed-4f1b-8a6c-55c7591ae451"
      },
      "execution_count": 28,
      "outputs": [
        {
          "output_type": "stream",
          "name": "stdout",
          "text": [
            "tensor(93.6275)\n"
          ]
        }
      ]
    },
    {
      "cell_type": "code",
      "source": [
        "print(accuracy(np.array(ypredlabel),np.array(datalabel))*100)"
      ],
      "metadata": {
        "colab": {
          "base_uri": "https://localhost:8080/"
        },
        "id": "jsyW6Aklqaht",
        "outputId": "ba126f5e-848f-4d97-cc7f-9e3ffeb71127"
      },
      "execution_count": 29,
      "outputs": [
        {
          "output_type": "stream",
          "name": "stdout",
          "text": [
            "93.62745098039215\n"
          ]
        }
      ]
    },
    {
      "cell_type": "markdown",
      "source": [
        "## Comment-\n",
        "## 1-We Used Neural Net as generally astronomical data is huge so for a bigger dataset its performance will increase more as compared to other models \n",
        "##  2-We found that the  dataset had a lot of outliers removing which increased both our accuracy and its consistancy\n",
        "##   3- Our Model Outperforms Random Forest which we aimed for initially\n"
      ],
      "metadata": {
        "id": "RM5qWl8EUz5_"
      }
    }
  ]
}